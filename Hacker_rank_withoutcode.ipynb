{
  "cells": [
    {
      "cell_type": "markdown",
      "metadata": {
        "id": "T9pYT-3ysOR0"
      },
      "source": [
        "## <center><u>Python Intermediate Challenge-1</u></center>\n",
        "\n",
        "\n",
        "54% of the respondents from the O'Reilly Data Science Salary Survey indicated that they used Python as a data science tool. Nobody can deny that Python has been on the rise in the data science industry and it certainly seems that it's here to stay.\n",
        "This rise in popularity in the industry, the long gone infancy of Python packages for data analysis, the low and gradual learning curve and the fact that it is a fully fledged programming language are only a couple of reasons that make Python an exceptional tool for data science.\n",
        "Although Python is a very readable language, you might still be able to use some help.\n",
        "\n",
        "You will be facing some challenging questions on python in this assignment. Below following steps would help you to complete this assignment:\n",
        "\n",
        "`1. Read the question\n",
        "2. Go to the link given under the question\n",
        "3. You will land on Hakerrank page, if not then create your Hakerrank account.\n",
        "4. Once you land on hankerank page mentioned under question, go through the given problem carefully.\n",
        "5. Solve it in the editor given in the page. Select python3 as your language in the editor and click 'Run Code' Button\n",
        "6. Once you have passed all the sample test cases, write your solution in this assignment against each question.`\n",
        "\n",
        "\n",
        "If you need any assistence on python, then please refer below cheatsheets:\n",
        "\n",
        "Cheatsheet reference: http://datacamp-community-prod.s3.amazonaws.com/0eff0330-e87d-4c34-88d5-73e80cb955f2\n",
        "\n",
        "\n",
        "\n",
        "    "
      ]
    },
    {
      "cell_type": "markdown",
      "metadata": {
        "id": "9LlSWQessOSE"
      },
      "source": [
        "#### Q1 Python If-Else\n",
        "\n",
        "link - https://www.hackerrank.com/challenges/py-if-else/problem"
      ]
    },
    {
      "cell_type": "code",
      "execution_count": null,
      "metadata": {
        "id": "y2cb_hnzsOSG"
      },
      "outputs": [],
      "source": [
        "#!/bin/python3\n",
        "\n",
        "import math\n",
        "import os\n",
        "import random\n",
        "import re\n",
        "import sys\n",
        "\n",
        "\n",
        "\n",
        "if __name__ == '__main__':\n",
        "    n = int(input().strip())\n",
        "if((n%2==1) or (n%2==0 and (6<=n<=20))):\n",
        "    print('Weird')\n",
        "if((n%2==0) and ((2<=n<=5) or (n > 20))):\n",
        "    print('Not Weird')\n",
        "\n",
        "\n",
        "\n",
        "\n",
        "\n",
        "\n",
        "\n",
        "\n",
        "\n",
        "\n",
        "\n"
      ]
    },
    {
      "cell_type": "markdown",
      "metadata": {
        "id": "BWUx_YbKsOSI"
      },
      "source": [
        "#### Q2 Arithmetic Operators\n",
        "\n",
        "link - https://www.hackerrank.com/challenges/python-arithmetic-operators/problem"
      ]
    },
    {
      "cell_type": "code",
      "execution_count": null,
      "metadata": {
        "id": "ie7HuNPXsOSI"
      },
      "outputs": [],
      "source": [
        "\n",
        "\n",
        "if __name__ == '__main__':\n",
        "    a = int(input())\n",
        "    b = int(input())\n",
        "    print(a+b)\n",
        "    print(a-b)\n",
        "    print(a*b)\n",
        "\n",
        "\n",
        "\n",
        "\n",
        "\n",
        "\n",
        "\n"
      ]
    },
    {
      "cell_type": "markdown",
      "metadata": {
        "id": "yLPxVEWisOSJ"
      },
      "source": [
        "#### Q3 Print Function\n",
        "\n",
        "link - https://www.hackerrank.com/challenges/python-print/problem"
      ]
    },
    {
      "cell_type": "code",
      "execution_count": null,
      "metadata": {
        "id": "GNB28rNdsOSJ"
      },
      "outputs": [],
      "source": [
        "\n",
        "if __name__ == '__main__':\n",
        "    n = int(input())\n",
        "\n",
        "    for i in range(1,n+1):\n",
        "        print(i,end='')\n",
        "\n",
        "\n",
        "\n",
        "\n",
        "\n",
        "\n",
        "\n",
        "\n",
        "\n"
      ]
    },
    {
      "cell_type": "markdown",
      "metadata": {
        "id": "W7YCwpV8sOSK"
      },
      "source": [
        "#### Q4 Write a function\n",
        "\n",
        "link - https://www.hackerrank.com/challenges/write-a-function/problem"
      ]
    },
    {
      "cell_type": "code",
      "execution_count": null,
      "metadata": {
        "id": "NkZSpK7ysOSK"
      },
      "outputs": [],
      "source": [
        "\n",
        "def is_leap(year):\n",
        "    leap = False\n",
        "\n",
        "    if ((year%4 == 0) and ((year%100 != 0) or (year%400 ==0))):\n",
        "        leap = True\n",
        "    return leap\n",
        "\n",
        "year = int(input())\n",
        "print(is_leap(year))\n",
        "\n",
        "\n",
        "\n",
        "\n",
        "\n",
        "\n",
        "\n",
        "\n",
        "\n",
        "\n"
      ]
    },
    {
      "cell_type": "markdown",
      "metadata": {
        "id": "QQCq4MyXsOSL"
      },
      "source": [
        "#### Q5 List Comprehensions\n",
        "\n",
        "link - https://www.hackerrank.com/challenges/list-comprehensions/problem"
      ]
    },
    {
      "cell_type": "code",
      "execution_count": null,
      "metadata": {
        "id": "YYrB3fl9sOSL"
      },
      "outputs": [],
      "source": [
        "\n",
        "\n",
        "if __name__ == '__main__':\n",
        "    x = int(input())\n",
        "    y = int(input())\n",
        "    z = int(input())\n",
        "    n = int(input())\n",
        "\n",
        "print([[a,b,c] for a in range(0,x+1) for b in range(0,y+1) for c in range(0,z+1)\n",
        "if(a+b+c) !=n ])\n",
        "\n",
        "\n",
        "\n",
        "\n",
        "\n",
        "\n",
        "\n",
        "\n",
        "\n"
      ]
    },
    {
      "cell_type": "markdown",
      "metadata": {
        "id": "BCzyhUmZsOSM"
      },
      "source": [
        "#### Q6 Find the Runner-Up Score!\n",
        "\n",
        "link - https://www.hackerrank.com/challenges/find-second-maximum-number-in-a-list/problem"
      ]
    },
    {
      "cell_type": "code",
      "execution_count": null,
      "metadata": {
        "id": "h-l5DO8jsOSM"
      },
      "outputs": [],
      "source": [
        "\n",
        "\n",
        "if __name__ == '__main__':\n",
        "    n = int(input())\n",
        "    arr = map(int, input().split())\n",
        "\n",
        "print(sorted(list(set((arr))))[-2])\n",
        "\n",
        "\n",
        "\n",
        "\n",
        "\n",
        "\n",
        "\n",
        "\n"
      ]
    },
    {
      "cell_type": "markdown",
      "metadata": {
        "id": "-IFoQcUysOSM"
      },
      "source": [
        "#### Q7 Nested Lists\n",
        "\n",
        "link - https://www.hackerrank.com/challenges/nested-list/problem"
      ]
    },
    {
      "cell_type": "code",
      "execution_count": null,
      "metadata": {
        "colab": {
          "base_uri": "https://localhost:8080/"
        },
        "id": "Fyb1QiatsOSN",
        "outputId": "706f3702-73ad-4d8a-9fd7-6b0f31a48fe0"
      },
      "outputs": [
        {
          "name": "stdout",
          "output_type": "stream",
          "text": [
            "3\n",
            "dcdc\n",
            "78\n",
            "cscd\n",
            "89\n",
            "erfef45\n",
            "87\n",
            "erfef45\n"
          ]
        }
      ],
      "source": [
        "list_=[]\n",
        "for _ in range(int(input())):\n",
        "        name = input()\n",
        "        score = float(input())\n",
        "        list_.append([name, score])\n",
        "second_lowest = sorted(list(set([score for name, score in list_])))[1]\n",
        "print('\\n'.join([name for name, score in sorted(list_) if score==second_lowest]))\n"
      ]
    },
    {
      "cell_type": "markdown",
      "metadata": {
        "id": "PI3o4xBFsOSN"
      },
      "source": [
        "#### Q8 Finding the percentage\n",
        "\n",
        "link - https://www.hackerrank.com/challenges/finding-the-percentage/problem"
      ]
    },
    {
      "cell_type": "code",
      "execution_count": null,
      "metadata": {
        "colab": {
          "base_uri": "https://localhost:8080/"
        },
        "id": "6PiBXfzWsOSN",
        "outputId": "0aa30305-c965-45c4-dce4-5585be7b0d67"
      },
      "outputs": [
        {
          "name": "stdout",
          "output_type": "stream",
          "text": [
            "3\n",
            "a 89 45 84\n",
            "b 54 65 69\n",
            "c 89 67 56\n",
            "a\n",
            "72.67\n"
          ]
        }
      ],
      "source": [
        "n = int(input())\n",
        "student_marks = {}\n",
        "for _ in range(n):\n",
        "        name, *line = input().split()\n",
        "        scores = list(map(float, line))\n",
        "        student_marks[name] = scores\n",
        "query_name = input()\n",
        "query_scores = sum(student_marks[query_name])/len(student_marks[query_name])\n",
        "print('{0:.2f}'.format(query_scores))"
      ]
    },
    {
      "cell_type": "markdown",
      "metadata": {
        "id": "GGDo_Es8sOSN"
      },
      "source": [
        "#### Q9 Lists\n",
        "\n",
        "link - https://www.hackerrank.com/challenges/python-lists/problem"
      ]
    },
    {
      "cell_type": "code",
      "execution_count": null,
      "metadata": {
        "colab": {
          "base_uri": "https://localhost:8080/",
          "height": 407
        },
        "id": "53vVLX6lsOSO",
        "outputId": "86a72f7d-935a-41f2-8287-e3882616038f"
      },
      "outputs": [
        {
          "name": "stdout",
          "output_type": "stream",
          "text": [
            "3\n"
          ]
        },
        {
          "ename": "KeyboardInterrupt",
          "evalue": "Interrupted by user",
          "output_type": "error",
          "traceback": [
            "\u001b[0;31m---------------------------------------------------------------------------\u001b[0m",
            "\u001b[0;31mKeyboardInterrupt\u001b[0m                         Traceback (most recent call last)",
            "\u001b[0;32m<ipython-input-2-505aeffa1f3e>\u001b[0m in \u001b[0;36m<cell line: 3>\u001b[0;34m()\u001b[0m\n\u001b[1;32m      2\u001b[0m \u001b[0mli\u001b[0m\u001b[0;34m=\u001b[0m\u001b[0;34m[\u001b[0m\u001b[0;34m]\u001b[0m\u001b[0;34m\u001b[0m\u001b[0;34m\u001b[0m\u001b[0m\n\u001b[1;32m      3\u001b[0m \u001b[0;32mfor\u001b[0m \u001b[0mi\u001b[0m \u001b[0;32min\u001b[0m \u001b[0mrange\u001b[0m\u001b[0;34m(\u001b[0m\u001b[0mN\u001b[0m\u001b[0;34m)\u001b[0m\u001b[0;34m:\u001b[0m\u001b[0;34m\u001b[0m\u001b[0;34m\u001b[0m\u001b[0m\n\u001b[0;32m----> 4\u001b[0;31m         \u001b[0mop\u001b[0m \u001b[0;34m=\u001b[0m \u001b[0minput\u001b[0m\u001b[0;34m(\u001b[0m\u001b[0;34m)\u001b[0m\u001b[0;34m.\u001b[0m\u001b[0msplit\u001b[0m\u001b[0;34m(\u001b[0m\u001b[0;34m)\u001b[0m\u001b[0;34m\u001b[0m\u001b[0;34m\u001b[0m\u001b[0m\n\u001b[0m\u001b[1;32m      5\u001b[0m         \u001b[0;32mif\u001b[0m \u001b[0mop\u001b[0m\u001b[0;34m[\u001b[0m\u001b[0;36m0\u001b[0m\u001b[0;34m]\u001b[0m\u001b[0;34m==\u001b[0m\u001b[0;34m\"insert\"\u001b[0m\u001b[0;34m:\u001b[0m\u001b[0;34m\u001b[0m\u001b[0;34m\u001b[0m\u001b[0m\n\u001b[1;32m      6\u001b[0m             \u001b[0mli\u001b[0m\u001b[0;34m.\u001b[0m\u001b[0minsert\u001b[0m\u001b[0;34m(\u001b[0m\u001b[0mint\u001b[0m\u001b[0;34m(\u001b[0m\u001b[0mop\u001b[0m\u001b[0;34m[\u001b[0m\u001b[0;36m1\u001b[0m\u001b[0;34m]\u001b[0m\u001b[0;34m)\u001b[0m\u001b[0;34m,\u001b[0m \u001b[0mint\u001b[0m\u001b[0;34m(\u001b[0m\u001b[0mop\u001b[0m\u001b[0;34m[\u001b[0m\u001b[0;36m2\u001b[0m\u001b[0;34m]\u001b[0m\u001b[0;34m)\u001b[0m\u001b[0;34m)\u001b[0m\u001b[0;34m\u001b[0m\u001b[0;34m\u001b[0m\u001b[0m\n",
            "\u001b[0;32m/usr/local/lib/python3.10/dist-packages/ipykernel/kernelbase.py\u001b[0m in \u001b[0;36mraw_input\u001b[0;34m(self, prompt)\u001b[0m\n\u001b[1;32m    849\u001b[0m                 \u001b[0;34m\"raw_input was called, but this frontend does not support input requests.\"\u001b[0m\u001b[0;34m\u001b[0m\u001b[0;34m\u001b[0m\u001b[0m\n\u001b[1;32m    850\u001b[0m             )\n\u001b[0;32m--> 851\u001b[0;31m         return self._input_request(str(prompt),\n\u001b[0m\u001b[1;32m    852\u001b[0m             \u001b[0mself\u001b[0m\u001b[0;34m.\u001b[0m\u001b[0m_parent_ident\u001b[0m\u001b[0;34m,\u001b[0m\u001b[0;34m\u001b[0m\u001b[0;34m\u001b[0m\u001b[0m\n\u001b[1;32m    853\u001b[0m             \u001b[0mself\u001b[0m\u001b[0;34m.\u001b[0m\u001b[0m_parent_header\u001b[0m\u001b[0;34m,\u001b[0m\u001b[0;34m\u001b[0m\u001b[0;34m\u001b[0m\u001b[0m\n",
            "\u001b[0;32m/usr/local/lib/python3.10/dist-packages/ipykernel/kernelbase.py\u001b[0m in \u001b[0;36m_input_request\u001b[0;34m(self, prompt, ident, parent, password)\u001b[0m\n\u001b[1;32m    893\u001b[0m             \u001b[0;32mexcept\u001b[0m \u001b[0mKeyboardInterrupt\u001b[0m\u001b[0;34m:\u001b[0m\u001b[0;34m\u001b[0m\u001b[0;34m\u001b[0m\u001b[0m\n\u001b[1;32m    894\u001b[0m                 \u001b[0;31m# re-raise KeyboardInterrupt, to truncate traceback\u001b[0m\u001b[0;34m\u001b[0m\u001b[0;34m\u001b[0m\u001b[0m\n\u001b[0;32m--> 895\u001b[0;31m                 \u001b[0;32mraise\u001b[0m \u001b[0mKeyboardInterrupt\u001b[0m\u001b[0;34m(\u001b[0m\u001b[0;34m\"Interrupted by user\"\u001b[0m\u001b[0;34m)\u001b[0m \u001b[0;32mfrom\u001b[0m \u001b[0;32mNone\u001b[0m\u001b[0;34m\u001b[0m\u001b[0;34m\u001b[0m\u001b[0m\n\u001b[0m\u001b[1;32m    896\u001b[0m             \u001b[0;32mexcept\u001b[0m \u001b[0mException\u001b[0m \u001b[0;32mas\u001b[0m \u001b[0me\u001b[0m\u001b[0;34m:\u001b[0m\u001b[0;34m\u001b[0m\u001b[0;34m\u001b[0m\u001b[0m\n\u001b[1;32m    897\u001b[0m                 \u001b[0mself\u001b[0m\u001b[0;34m.\u001b[0m\u001b[0mlog\u001b[0m\u001b[0;34m.\u001b[0m\u001b[0mwarning\u001b[0m\u001b[0;34m(\u001b[0m\u001b[0;34m\"Invalid Message:\"\u001b[0m\u001b[0;34m,\u001b[0m \u001b[0mexc_info\u001b[0m\u001b[0;34m=\u001b[0m\u001b[0;32mTrue\u001b[0m\u001b[0;34m)\u001b[0m\u001b[0;34m\u001b[0m\u001b[0;34m\u001b[0m\u001b[0m\n",
            "\u001b[0;31mKeyboardInterrupt\u001b[0m: Interrupted by user"
          ]
        }
      ],
      "source": [
        "N = int(input())\n",
        "li=[]\n",
        "for i in range(N):\n",
        "        op = input().split()\n",
        "        if op[0]==\"insert\":\n",
        "            li.insert(int(op[1]), int(op[2]))\n",
        "        elif op[0]==\"print\":\n",
        "            print(li)\n",
        "        elif op[0]==\"remove\":\n",
        "            li.remove(int(op[1]))\n",
        "        elif op[0]==\"append\":\n",
        "            li.append(int(op[1]))\n",
        "        elif op[0]==\"sort\":\n",
        "            li.sort()\n",
        "        elif op[0]==\"pop\":\n",
        "            li.pop()\n",
        "        elif op[0]==\"reverse\":\n",
        "            li.reverse()\n",
        "\n",
        "\n",
        "\n",
        "\n",
        "\n",
        "\n",
        "\n",
        "\n",
        "\n",
        "\n",
        "\n"
      ]
    },
    {
      "cell_type": "markdown",
      "metadata": {
        "id": "BUB-RZ0vsOSO"
      },
      "source": [
        "#### Q10 Tuples\n",
        "\n",
        "\n",
        "link - https://www.hackerrank.com/challenges/python-tuples/problem"
      ]
    },
    {
      "cell_type": "code",
      "execution_count": null,
      "metadata": {
        "id": "V3N4Y64TsOSP"
      },
      "outputs": [],
      "source": [
        "if __name__ == '__main__':\n",
        "    n = int(input())\n",
        "    integer_list = map(int, input().split())\n",
        "    tup = tuple(integer_list)\n",
        "    print(hash(tup))\n",
        "\n",
        "\n",
        "\n",
        "\n",
        "\n",
        "\n",
        "\n",
        "\n",
        "\n"
      ]
    },
    {
      "cell_type": "markdown",
      "metadata": {
        "id": "mdEa0nucsOSP"
      },
      "source": [
        "#### Q11 The Minion Game\n",
        "\n",
        "link - https://www.hackerrank.com/challenges/the-minion-game/problem"
      ]
    },
    {
      "cell_type": "code",
      "execution_count": null,
      "metadata": {
        "id": "yf8ZHgqzsOSP"
      },
      "outputs": [],
      "source": [
        "def minion_game(string):\n",
        "    # your code goes here\n",
        "    vowels = ['A', 'E', 'I', 'O', 'U']\n",
        "    s=0\n",
        "    k=0\n",
        "    for i in range(len(string)):\n",
        "        if string[i] not in vowels:\n",
        "            s = s + len(string) - i\n",
        "        else:\n",
        "            k = k + len(string) - i\n",
        "\n",
        "    if s > k:\n",
        "        print('Stuart {}'.format(s))\n",
        "    elif k > s:\n",
        "        print('Kevin {}'.format(k))\n",
        "    else:\n",
        "        print('Draw')\n",
        "if __name__ == '__main__':\n",
        "    s = input()\n",
        "    minion_game(s)\n",
        "\n",
        "\n",
        "\n",
        "\n",
        "\n",
        "\n",
        "\n",
        "\n",
        "\n",
        "\n",
        "\n"
      ]
    },
    {
      "cell_type": "markdown",
      "metadata": {
        "id": "oN9U3E8tsOSQ"
      },
      "source": [
        "#### Q12 Designer door mat\n",
        "\n",
        "link - https://www.hackerrank.com/challenges/designer-door-mat/problem"
      ]
    },
    {
      "cell_type": "code",
      "execution_count": null,
      "metadata": {
        "colab": {
          "base_uri": "https://localhost:8080/"
        },
        "id": "RnAdIXTYsOSQ",
        "outputId": "a6089348-2d85-4c19-868d-77f14ae810ee"
      },
      "outputs": [
        {
          "name": "stdout",
          "output_type": "stream",
          "text": [
            "9 27\n",
            "------------.|.------------\n",
            "---------.|..|..|.---------\n",
            "------.|..|..|..|..|.------\n",
            "---.|..|..|..|..|..|..|.---\n",
            "----------Welcome----------\n",
            "---.|..|..|..|..|..|..|.---\n",
            "------.|..|..|..|..|.------\n",
            "---------.|..|..|.---------\n",
            "------------.|.------------\n"
          ]
        }
      ],
      "source": [
        "n, m = map(int, input().split())\n",
        "\n",
        "pattern = [('.|.'*(2*i+1)).center(m, '-') for i in range(n//2)]\n",
        "\n",
        "print('\\n'.join(pattern + ['Welcome'.center(m, '-')]+ pattern[::-1]))\n",
        "\n",
        "\n",
        "\n",
        "\n",
        "\n",
        "\n",
        "\n",
        "\n",
        "\n"
      ]
    },
    {
      "cell_type": "markdown",
      "metadata": {
        "id": "V1FGZ5B4sOSR"
      },
      "source": [
        "#### Q13 Merge the tools\n",
        "\n",
        "link - https://www.hackerrank.com/challenges/merge-the-tools/problem"
      ]
    },
    {
      "cell_type": "code",
      "execution_count": null,
      "metadata": {
        "id": "SMSrSsu_sOSR"
      },
      "outputs": [],
      "source": [
        "def merge_the_tools(string, k):\n",
        "    # your code goes here\n",
        "\n",
        "    for i in range(0, len(string), k):\n",
        "        unique = ''\n",
        "        for c in string[i:i+k]:\n",
        "            if (c not in unique):\n",
        "                unique +=c\n",
        "        print(unique)\n",
        "\n",
        "if __name__ == '__main__':\n",
        "    string, k = input(), int(input())\n",
        "    merge_the_tools(string, k)\n",
        "\n",
        "\n",
        "\n",
        "\n",
        "\n",
        "\n",
        "\n",
        "\n",
        "\n",
        "\n"
      ]
    },
    {
      "cell_type": "markdown",
      "metadata": {
        "id": "w1RMXyhUsOSR"
      },
      "source": [
        "#### Q14 find a string\n",
        "\n",
        "link - https://www.hackerrank.com/challenges/find-a-string/problem"
      ]
    },
    {
      "cell_type": "code",
      "execution_count": null,
      "metadata": {
        "id": "XJ0TAKxosOSS"
      },
      "outputs": [],
      "source": [
        "def count_substring(string, sub_string):\n",
        "    count = 0\n",
        "\n",
        "    for i in range(0, len(string)):\n",
        "        if string[i:].startswith(sub_string):\n",
        "            count += 1\n",
        "    return count\n",
        "\n",
        "if __name__ == '__main__':\n",
        "    string = input().strip()\n",
        "    sub_string = input().strip()\n",
        "\n",
        "    count = count_substring(string, sub_string)\n",
        "    print(count)\n",
        "\n",
        "\n",
        "\n",
        "\n",
        "\n",
        "\n",
        "\n",
        "\n",
        "\n"
      ]
    },
    {
      "cell_type": "markdown",
      "metadata": {
        "id": "BpRXWNTjsOSS"
      },
      "source": [
        "#### Q15 no idea\n",
        "\n",
        "link - https://www.hackerrank.com/challenges/no-idea/problem"
      ]
    },
    {
      "cell_type": "code",
      "execution_count": null,
      "metadata": {
        "id": "9-PazeRLsOST"
      },
      "outputs": [],
      "source": [
        "# Enter your code here. Read input from STDIN. Print output to STDOUT\n",
        "num = input().split()\n",
        "array = input().split()\n",
        "like = set(input().split())\n",
        "dislike = set(input().split())\n",
        "\n",
        "print(sum((i in like) - (i in dislike) for i in array))\n",
        "\n",
        "\n",
        "\n",
        "\n",
        "\n",
        "\n",
        "\n"
      ]
    },
    {
      "cell_type": "markdown",
      "metadata": {
        "id": "jCBDX_Z7sOST"
      },
      "source": [
        "#### Q16 Symmetric difference set\n",
        "\n",
        "link - https://www.hackerrank.com/challenges/py-set-symmetric-difference-operation/problem\n"
      ]
    },
    {
      "cell_type": "code",
      "execution_count": null,
      "metadata": {
        "id": "GHyJZQ29sOST"
      },
      "outputs": [],
      "source": [
        "\n",
        "# Enter your code here. Read input from STDIN. Print output to STDOUT\n",
        "stud_eng = int(input())\n",
        "eng_subs_roll = set(input().split())\n",
        "stud_fr = int(input())\n",
        "fr_subs_roll = set(input().split())\n",
        "\n",
        "print(len(eng_subs_roll.symmetric_difference(fr_subs_roll)))\n",
        "\n",
        "\n",
        "\n",
        "\n",
        "\n",
        "\n",
        "\n",
        "\n"
      ]
    },
    {
      "cell_type": "markdown",
      "metadata": {
        "id": "4lyv7mLCsOSU"
      },
      "source": [
        "#### Q17 lambda map expression\n",
        "\n",
        "link - https://www.hackerrank.com/challenges/map-and-lambda-expression/problem"
      ]
    },
    {
      "cell_type": "code",
      "execution_count": null,
      "metadata": {
        "colab": {
          "base_uri": "https://localhost:8080/"
        },
        "id": "jcCQ9EKUsOSU",
        "outputId": "fa7e2b11-fb44-4e5d-9919-cbbe099d812a"
      },
      "outputs": [
        {
          "name": "stdout",
          "output_type": "stream",
          "text": [
            "0\n",
            "[]\n"
          ]
        }
      ],
      "source": [
        "cube = lambda x: x**3\n",
        "\n",
        "def fibonacci(n):\n",
        "    # return a list of fibonacci numbers\n",
        "\n",
        "    if n == 0:\n",
        "            return []\n",
        "    elif n == 1:\n",
        "            return [0]\n",
        "    fib = [0, 1]\n",
        "    for i in range(2, n):\n",
        "            fib.append(fib[-1] + fib[-2])\n",
        "    return fib\n",
        "\n",
        "\n",
        "if __name__ == '__main__':\n",
        "    n = int(input())\n",
        "    print(list(map(cube, fibonacci(n))))"
      ]
    },
    {
      "cell_type": "markdown",
      "metadata": {
        "id": "4bPLHvLMsOSU"
      },
      "source": [
        "#### Q18. validate list of email address\n",
        "\n",
        "link - https://www.hackerrank.com/challenges/validate-list-of-email-address-with-filter/problem\n"
      ]
    },
    {
      "cell_type": "code",
      "execution_count": null,
      "metadata": {
        "id": "msqd6xBUsOSV"
      },
      "outputs": [],
      "source": [
        "\n",
        "import re\n",
        "def fun(s):\n",
        "    # return True if s is a valid email, else return False\n",
        "    pattern = re.compile(\"^[\\w-]+@[0-9a-z-A-Z]+\\.[a-zA-Z]{1,3}$\")\n",
        "    return pattern.match(s)\n",
        "\n",
        "def filter_mail(emails):\n",
        "    return list(filter(fun, emails))\n",
        "\n",
        "if __name__ == '__main__':\n",
        "    n = int(input())\n",
        "    emails = []\n",
        "    for _ in range(n):\n",
        "        emails.append(input())\n",
        "\n",
        "filtered_emails = filter_mail(emails)\n",
        "filtered_emails.sort()\n",
        "print(filtered_emails)\n",
        "\n",
        "\n",
        "\n",
        "\n",
        "\n",
        "\n",
        "\n",
        "\n"
      ]
    },
    {
      "cell_type": "markdown",
      "metadata": {
        "id": "wBUcpppssOSV"
      },
      "source": [
        "#### Q19 reduce function problem\n",
        "\n",
        "link - https://www.hackerrank.com/challenges/reduce-function/problem\n"
      ]
    },
    {
      "cell_type": "code",
      "execution_count": null,
      "metadata": {
        "id": "5yUbVsSgsOSV"
      },
      "outputs": [],
      "source": [
        "from fractions import Fraction\n",
        "from functools import reduce\n",
        "\n",
        "def product(fracs):\n",
        "    t = reduce(lambda x,y:x*y, fracs)\n",
        "    return t.numerator, t.denominator\n",
        "\n",
        "if __name__ == '__main__':\n",
        "    fracs = []\n",
        "    for _ in range(int(input())):\n",
        "        fracs.append(Fraction(*map(int, input().split())))\n",
        "    result = product(fracs)\n",
        "    print(*result)\n",
        "\n",
        "\n",
        "\n",
        "\n",
        "\n",
        "\n",
        "\n",
        "\n"
      ]
    },
    {
      "cell_type": "markdown",
      "metadata": {
        "id": "m3JhID0bsOSX"
      },
      "source": [
        "#### Q20 collection counter problem\n",
        "\n",
        "link - https://www.hackerrank.com/challenges/collections-counter/problem\n"
      ]
    },
    {
      "cell_type": "code",
      "execution_count": null,
      "metadata": {
        "id": "GmgpBJ3WsOSY"
      },
      "outputs": [],
      "source": [
        "# Enter your code here. Read input from STDIN. Print output to STDOUT\n",
        "import collections\n",
        "numShoes = int(input())\n",
        "shoeSize = collections.Counter(map(int, input().split()))\n",
        "numCust = int(input())\n",
        "\n",
        "income = 0\n",
        "for i in range(numCust):\n",
        "    size, price = map(int, input().split())\n",
        "    if shoeSize[size]:\n",
        "        income += price\n",
        "        shoeSize[size] -= 1\n",
        "print(income)\n",
        "\n",
        "\n",
        "\n",
        "\n",
        "\n",
        "\n",
        "\n",
        "\n",
        "\n",
        "\n"
      ]
    },
    {
      "cell_type": "markdown",
      "metadata": {
        "id": "oNKFN1xdsOSY"
      },
      "source": [
        "#### Q21 collections namedtuple\n",
        "\n",
        "link - https://www.hackerrank.com/challenges/py-collections-namedtuple/problem\n"
      ]
    },
    {
      "cell_type": "code",
      "execution_count": null,
      "metadata": {
        "colab": {
          "base_uri": "https://localhost:8080/",
          "height": 407
        },
        "id": "6SODwxNasOSY",
        "outputId": "49ee54f8-4e75-4dd1-ff54-d88a6e8e12a8"
      },
      "outputs": [
        {
          "name": "stdout",
          "output_type": "stream",
          "text": [
            "5\n"
          ]
        },
        {
          "ename": "KeyboardInterrupt",
          "evalue": "Interrupted by user",
          "output_type": "error",
          "traceback": [
            "\u001b[0;31m---------------------------------------------------------------------------\u001b[0m",
            "\u001b[0;31mKeyboardInterrupt\u001b[0m                         Traceback (most recent call last)",
            "\u001b[0;32m<ipython-input-2-4b95a03c7808>\u001b[0m in \u001b[0;36m<cell line: 5>\u001b[0;34m()\u001b[0m\n\u001b[1;32m      3\u001b[0m \u001b[0;34m\u001b[0m\u001b[0m\n\u001b[1;32m      4\u001b[0m \u001b[0mn\u001b[0m \u001b[0;34m=\u001b[0m \u001b[0mint\u001b[0m\u001b[0;34m(\u001b[0m\u001b[0minput\u001b[0m\u001b[0;34m(\u001b[0m\u001b[0;34m)\u001b[0m\u001b[0;34m)\u001b[0m\u001b[0;34m\u001b[0m\u001b[0;34m\u001b[0m\u001b[0m\n\u001b[0;32m----> 5\u001b[0;31m \u001b[0mInfo\u001b[0m \u001b[0;34m=\u001b[0m \u001b[0mnamedtuple\u001b[0m\u001b[0;34m(\u001b[0m\u001b[0;34m'Info'\u001b[0m\u001b[0;34m,\u001b[0m \u001b[0minput\u001b[0m\u001b[0;34m(\u001b[0m\u001b[0;34m)\u001b[0m\u001b[0;34m)\u001b[0m\u001b[0;34m\u001b[0m\u001b[0;34m\u001b[0m\u001b[0m\n\u001b[0m\u001b[1;32m      6\u001b[0m \u001b[0ms\u001b[0m \u001b[0;34m=\u001b[0m \u001b[0;34m''\u001b[0m\u001b[0;34m\u001b[0m\u001b[0;34m\u001b[0m\u001b[0m\n\u001b[1;32m      7\u001b[0m \u001b[0msum\u001b[0m \u001b[0;34m=\u001b[0m \u001b[0;36m0\u001b[0m\u001b[0;34m\u001b[0m\u001b[0;34m\u001b[0m\u001b[0m\n",
            "\u001b[0;32m/usr/local/lib/python3.10/dist-packages/ipykernel/kernelbase.py\u001b[0m in \u001b[0;36mraw_input\u001b[0;34m(self, prompt)\u001b[0m\n\u001b[1;32m    849\u001b[0m                 \u001b[0;34m\"raw_input was called, but this frontend does not support input requests.\"\u001b[0m\u001b[0;34m\u001b[0m\u001b[0;34m\u001b[0m\u001b[0m\n\u001b[1;32m    850\u001b[0m             )\n\u001b[0;32m--> 851\u001b[0;31m         return self._input_request(str(prompt),\n\u001b[0m\u001b[1;32m    852\u001b[0m             \u001b[0mself\u001b[0m\u001b[0;34m.\u001b[0m\u001b[0m_parent_ident\u001b[0m\u001b[0;34m,\u001b[0m\u001b[0;34m\u001b[0m\u001b[0;34m\u001b[0m\u001b[0m\n\u001b[1;32m    853\u001b[0m             \u001b[0mself\u001b[0m\u001b[0;34m.\u001b[0m\u001b[0m_parent_header\u001b[0m\u001b[0;34m,\u001b[0m\u001b[0;34m\u001b[0m\u001b[0;34m\u001b[0m\u001b[0m\n",
            "\u001b[0;32m/usr/local/lib/python3.10/dist-packages/ipykernel/kernelbase.py\u001b[0m in \u001b[0;36m_input_request\u001b[0;34m(self, prompt, ident, parent, password)\u001b[0m\n\u001b[1;32m    893\u001b[0m             \u001b[0;32mexcept\u001b[0m \u001b[0mKeyboardInterrupt\u001b[0m\u001b[0;34m:\u001b[0m\u001b[0;34m\u001b[0m\u001b[0;34m\u001b[0m\u001b[0m\n\u001b[1;32m    894\u001b[0m                 \u001b[0;31m# re-raise KeyboardInterrupt, to truncate traceback\u001b[0m\u001b[0;34m\u001b[0m\u001b[0;34m\u001b[0m\u001b[0m\n\u001b[0;32m--> 895\u001b[0;31m                 \u001b[0;32mraise\u001b[0m \u001b[0mKeyboardInterrupt\u001b[0m\u001b[0;34m(\u001b[0m\u001b[0;34m\"Interrupted by user\"\u001b[0m\u001b[0;34m)\u001b[0m \u001b[0;32mfrom\u001b[0m \u001b[0;32mNone\u001b[0m\u001b[0;34m\u001b[0m\u001b[0;34m\u001b[0m\u001b[0m\n\u001b[0m\u001b[1;32m    896\u001b[0m             \u001b[0;32mexcept\u001b[0m \u001b[0mException\u001b[0m \u001b[0;32mas\u001b[0m \u001b[0me\u001b[0m\u001b[0;34m:\u001b[0m\u001b[0;34m\u001b[0m\u001b[0;34m\u001b[0m\u001b[0m\n\u001b[1;32m    897\u001b[0m                 \u001b[0mself\u001b[0m\u001b[0;34m.\u001b[0m\u001b[0mlog\u001b[0m\u001b[0;34m.\u001b[0m\u001b[0mwarning\u001b[0m\u001b[0;34m(\u001b[0m\u001b[0;34m\"Invalid Message:\"\u001b[0m\u001b[0;34m,\u001b[0m \u001b[0mexc_info\u001b[0m\u001b[0;34m=\u001b[0m\u001b[0;32mTrue\u001b[0m\u001b[0;34m)\u001b[0m\u001b[0;34m\u001b[0m\u001b[0;34m\u001b[0m\u001b[0m\n",
            "\u001b[0;31mKeyboardInterrupt\u001b[0m: Interrupted by user"
          ]
        }
      ],
      "source": [
        "# Enter your code here. Read input from STDIN. Print output to STDOUT\n",
        "from collections import namedtuple\n",
        "\n",
        "n = int(input())\n",
        "Info = namedtuple('Info', input())\n",
        "s = ''\n",
        "sum = 0\n",
        "\n",
        "for i in range(n):\n",
        "    a,b,c,d = input().split()\n",
        "    s = Info(a,b,c,d)\n",
        "    sum += int(s.MARKS)\n",
        "print(round(sum/float(n),2))\n",
        "\n",
        "\n",
        "\n",
        "\n",
        "\n",
        "\n",
        "\n"
      ]
    },
    {
      "cell_type": "markdown",
      "metadata": {
        "id": "8gzNNEznsOSZ"
      },
      "source": [
        "#### Q22 default dict\n",
        "\n",
        "link -\n",
        "https://www.hackerrank.com/challenges/defaultdict-tutorial/problem\n"
      ]
    },
    {
      "cell_type": "code",
      "execution_count": null,
      "metadata": {
        "id": "GfdA36TFsOSZ"
      },
      "outputs": [],
      "source": [
        "# Enter your code here. Read input from STDIN. Print output to STDOUT\n",
        "from collections import defaultdict\n",
        "\n",
        "n,m = map(int, input().split())\n",
        "d = defaultdict(lambda: -1 )\n",
        "\n",
        "for i in range(1,n+1):\n",
        "    word = input()\n",
        "    d[word] = d[word] + ' ' + str(i) if word in d else str(i)\n",
        "\n",
        "\n",
        "for _ in range(m):\n",
        "    print(d[input()])\n",
        "\n",
        "\n",
        "\n",
        "\n",
        "\n",
        "\n",
        "\n",
        "\n"
      ]
    },
    {
      "cell_type": "markdown",
      "metadata": {
        "id": "ES0NtmfMsOSZ"
      },
      "source": [
        "#### Q23 Ordered dict\n",
        "\n",
        "link - https://www.hackerrank.com/challenges/py-collections-ordereddict/problem\n"
      ]
    },
    {
      "cell_type": "code",
      "execution_count": null,
      "metadata": {
        "id": "kTvCVNwqsOSZ"
      },
      "outputs": [],
      "source": [
        "# Enter your code here. Read input from STDIN. Print output to STDOUT\n",
        "from collections import OrderedDict\n",
        "\n",
        "d = OrderedDict()\n",
        "for _ in range(int(input())):\n",
        "    item, space, quantity = input().rpartition(' ')\n",
        "    d[item] = d.get(item, 0) + int(quantity)\n",
        "for item, quantity in d.items():\n",
        "    print(item, quantity)"
      ]
    },
    {
      "cell_type": "markdown",
      "metadata": {
        "id": "mDzwUGoasOSa"
      },
      "source": [
        "#### Q24 word order\n",
        "\n",
        "link - https://www.hackerrank.com/challenges/word-order/problem\n"
      ]
    },
    {
      "cell_type": "code",
      "execution_count": null,
      "metadata": {
        "colab": {
          "base_uri": "https://localhost:8080/"
        },
        "id": "TMlXPSresOSa",
        "outputId": "8e4bb914-8a52-4238-da15-6c71d4063e05"
      },
      "outputs": [
        {
          "name": "stdout",
          "output_type": "stream",
          "text": [
            "3\n",
            "abc\n",
            "0 0\n",
            "pqr\n",
            "1 0\n",
            "abc\n",
            "2 0\n"
          ]
        }
      ],
      "source": [
        "# Enter your code here. Read input from STDIN. Print output to STDOUT\n",
        "from collections import OrderedDict\n",
        "\n",
        "n = int(input())\n",
        "words = OrderedDict()\n",
        "for i in range(n):\n",
        "    word = input()\n",
        "    words.setdefault(word, 0)\n",
        "    words[word] += 1\n",
        "\n",
        "print(len(words))\n",
        "print(*words.values())"
      ]
    },
    {
      "cell_type": "markdown",
      "metadata": {
        "id": "_YoSfFwfsOSb"
      },
      "source": [
        "#### Q25 Company logo\n",
        "\n",
        "link - https://www.hackerrank.com/challenges/most-commons/problem\n"
      ]
    },
    {
      "cell_type": "code",
      "execution_count": null,
      "metadata": {
        "id": "UCt_xjhZsOSb"
      },
      "outputs": [],
      "source": [
        "#!/bin/python3\n",
        "from collections import Counter\n",
        "chars = Counter(input()).items()\n",
        "for char, n in sorted(chars, key=lambda c: (-c[1], c[0]))[:3]:\n",
        "    print(char, n)\n",
        "\n",
        "\n",
        "\n",
        "\n",
        "\n",
        "\n",
        "\n",
        "\n"
      ]
    },
    {
      "cell_type": "markdown",
      "metadata": {
        "id": "dC-U9T7MsOSc"
      },
      "source": [
        "#### Q26 itertools product\n",
        "\n",
        "link - https://www.hackerrank.com/challenges/itertools-product/problem\n"
      ]
    },
    {
      "cell_type": "code",
      "execution_count": null,
      "metadata": {
        "id": "SaHCh2-nsOSc"
      },
      "outputs": [],
      "source": [
        "\n",
        "# Enter your code here. Read input from STDIN. Print output to STDOUT\n",
        "from itertools import product\n",
        "\n",
        "list1 = list(map(int, input().split()))\n",
        "list2 = list(map(int, input().split()))\n",
        "\n",
        "#print (i for i in list(product(list1,list2)))\n",
        "\n",
        "\"\"\"for i in list(product(list1,list2)):\n",
        "    print(i, end=' ')\"\"\"\n",
        "print(*product(list1, list2))\n",
        "\n",
        "\n",
        "\n"
      ]
    },
    {
      "cell_type": "markdown",
      "metadata": {
        "id": "hd2jnqGQsOSc"
      },
      "source": [
        "#### Q27 itertools permutation\n",
        "\n",
        "link - https://www.hackerrank.com/challenges/itertools-permutations/problem\n"
      ]
    },
    {
      "cell_type": "code",
      "execution_count": null,
      "metadata": {
        "colab": {
          "base_uri": "https://localhost:8080/"
        },
        "id": "Ek8ckLDcsOSd",
        "outputId": "f39f960b-2805-4bb5-a7c8-dfcbcdb07b17"
      },
      "outputs": [
        {
          "name": "stdout",
          "output_type": "stream",
          "text": [
            "HACK 2\n",
            "AC\n",
            "AH\n",
            "AK\n",
            "CA\n",
            "CH\n",
            "CK\n",
            "HA\n",
            "HC\n",
            "HK\n",
            "KA\n",
            "KC\n",
            "KH\n"
          ]
        }
      ],
      "source": [
        "# Enter your code here. Read input from STDIN. Print output to STDOUT\n",
        "from itertools import permutations\n",
        "\n",
        "s,n = input().split()\n",
        "\n",
        "print(*[''.join(i) for i in permutations(sorted(s),int(n))], sep='\\n')\n",
        "\n",
        "\n",
        "\n",
        "\n"
      ]
    },
    {
      "cell_type": "markdown",
      "metadata": {
        "id": "rXx4zruRsOSd"
      },
      "source": [
        "#### Q28 itertools combination\n",
        "\n",
        "link - https://www.hackerrank.com/challenges/itertools-combinations/problem\n"
      ]
    },
    {
      "cell_type": "code",
      "execution_count": null,
      "metadata": {
        "id": "6EAUE2vbsOSe"
      },
      "outputs": [],
      "source": [
        "\n",
        "# Enter your code here. Read input from STDIN. Print output to STDOUT\n",
        "from itertools import combinations\n",
        "\n",
        "s, n = input().split(' ')\n",
        "\n",
        "for l in range(1, int(n)+1):\n",
        "    for c in combinations(sorted(s), l):\n",
        "        print(''.join(c))\n",
        "\n",
        "\n",
        "\n",
        "\n",
        "\n"
      ]
    },
    {
      "cell_type": "markdown",
      "metadata": {
        "id": "n-qLFRr_sOSe"
      },
      "source": [
        "#### Q29 itertools combination\n",
        "\n",
        "link - https://www.hackerrank.com/challenges/itertools-combinations-with-replacement/problem\n"
      ]
    },
    {
      "cell_type": "code",
      "execution_count": null,
      "metadata": {
        "id": "RW0jsEyDsOSf"
      },
      "outputs": [],
      "source": [
        "# Enter your code here. Read input from STDIN. Print output to STDOUT\n",
        "from itertools import combinations_with_replacement as cr\n",
        "\n",
        "s,n = input().split()\n",
        "\n",
        "print(*[''.join(i) for i in cr(sorted(s),int(n))], sep='\\n')\n",
        "\n",
        "\n",
        "\n",
        "\n",
        "\n",
        "\n",
        "\n",
        "\n",
        "\n"
      ]
    },
    {
      "cell_type": "markdown",
      "metadata": {
        "id": "VrG1a6LTsOSf"
      },
      "source": [
        "#### Q30 compress the string\n",
        "\n",
        "link - https://www.hackerrank.com/challenges/compress-the-string/problem\n"
      ]
    },
    {
      "cell_type": "code",
      "execution_count": null,
      "metadata": {
        "id": "H9xBskIDsOSg"
      },
      "outputs": [],
      "source": [
        "# Enter your code here. Read input from STDIN. Print output to STDOUT\n",
        "from itertools import groupby\n",
        "print(*[(len(list(c)), int(k)) for k, c in groupby(input())])\n",
        "\n",
        "\n",
        "\n"
      ]
    },
    {
      "cell_type": "markdown",
      "metadata": {
        "id": "v4Bo2Y82sOSg"
      },
      "source": [
        "#### Q31 iterables and iterators\n",
        "\n",
        "link - https://www.hackerrank.com/challenges/iterables-and-iterators/problem\n"
      ]
    },
    {
      "cell_type": "code",
      "execution_count": null,
      "metadata": {
        "id": "LuWtkG2wsOSh"
      },
      "outputs": [],
      "source": [
        "# Enter your code here. Read input from STDIN. Print output to STDOUT\n",
        "from itertools import combinations\n",
        "\n",
        "N = int(input())\n",
        "L = input().split()\n",
        "K = int(input())\n",
        "\n",
        "C = list(combinations(L,K))\n",
        "F = filter(lambda c: 'a' in c, C)\n",
        "print('{0:.3}'.format(len(list(F))/len(C)))\n",
        "\n",
        "\n",
        "\n",
        "\n",
        "\n"
      ]
    },
    {
      "cell_type": "markdown",
      "metadata": {
        "id": "Ltg3Sn9lsOSi"
      },
      "source": [
        "#### Q32 Maximize it\n",
        "\n",
        "link - https://www.hackerrank.com/challenges/maximize-it/problem\n"
      ]
    },
    {
      "cell_type": "code",
      "execution_count": null,
      "metadata": {
        "id": "pD8xrwNVsOSi"
      },
      "outputs": [],
      "source": [
        "\n",
        "# Enter your code here. Read input from STDIN. Print output to STDOUT\n",
        "from itertools import product\n",
        "\n",
        "K, M = map(int, input().split())\n",
        "N = (list(map(int, input().split()))[1:] for _ in range(K))\n",
        "results = map(lambda x: sum(i**2 for i in x)%M,  product(*N))\n",
        "print(max(results))\n",
        "\n",
        "\n",
        "\n",
        "\n"
      ]
    },
    {
      "cell_type": "markdown",
      "metadata": {
        "id": "MBn2t0-MsOSi"
      },
      "source": [
        "---------------------------------\n",
        "\n",
        "# \"Cheers\":) Congratulations! you have completed the Python Intermediate challenge.\n",
        "\n",
        "--------------------------------\n",
        "\n",
        "# FeedBack\n",
        "We hope you’ve enjoyed this course so far. We’re committed to help you use \"AI for All\" course to its full potential, so that you have a great learning experience. And that’s why we need your help in form of a feedback here.\n",
        "\n",
        "Please fill this feedback form  https://zfrmz.in/MtRG5oWXBdesm6rmSM7N"
      ]
    }
  ],
  "metadata": {
    "colab": {
      "collapsed_sections": [
        "T9pYT-3ysOR0"
      ],
      "provenance": []
    },
    "kernelspec": {
      "display_name": "Python 3",
      "language": "python",
      "name": "python3"
    },
    "language_info": {
      "codemirror_mode": {
        "name": "ipython",
        "version": 3
      },
      "file_extension": ".py",
      "mimetype": "text/x-python",
      "name": "python",
      "nbconvert_exporter": "python",
      "pygments_lexer": "ipython3",
      "version": "3.8.5"
    }
  },
  "nbformat": 4,
  "nbformat_minor": 0
}
