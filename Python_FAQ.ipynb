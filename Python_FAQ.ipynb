{
  "nbformat": 4,
  "nbformat_minor": 0,
  "metadata": {
    "colab": {
      "provenance": []
    },
    "kernelspec": {
      "name": "python3",
      "display_name": "Python 3"
    },
    "language_info": {
      "name": "python"
    }
  },
  "cells": [
    {
      "cell_type": "markdown",
      "source": [
        "# Python FAQs"
      ],
      "metadata": {
        "id": "-2AldgC_aNhA"
      }
    },
    {
      "cell_type": "code",
      "execution_count": 3,
      "metadata": {
        "colab": {
          "base_uri": "https://localhost:8080/"
        },
        "id": "szGFoAUBaJL1",
        "outputId": "b43d0478-a01d-4960-eacc-4fdd3f73e426"
      },
      "outputs": [
        {
          "output_type": "stream",
          "name": "stdout",
          "text": [
            "5 6\n",
            "6 5\n"
          ]
        }
      ],
      "source": [
        "# Swap two numbers\n",
        "\n",
        "x = 5\n",
        "y = 6\n",
        "print(x,y)\n",
        "\n",
        "x = x+y\n",
        "y = x-y\n",
        "x = x-y\n",
        "print(x,y)"
      ]
    },
    {
      "cell_type": "code",
      "source": [
        "# Reverse number\n",
        "#1.\n",
        "a = 1234\n",
        "print(str(a)[::-1])\n",
        "\n",
        "#2.\n",
        "\n"
      ],
      "metadata": {
        "colab": {
          "base_uri": "https://localhost:8080/"
        },
        "id": "dac9iWRdbAvm",
        "outputId": "d876e8d5-fac9-49c0-f34b-6f7ad0d254f0"
      },
      "execution_count": 21,
      "outputs": [
        {
          "output_type": "stream",
          "name": "stdout",
          "text": [
            "4321\n",
            "4 3 0 0\n",
            "4300\n"
          ]
        }
      ]
    },
    {
      "cell_type": "code",
      "source": [],
      "metadata": {
        "id": "cPlR1Z6obmb2"
      },
      "execution_count": 5,
      "outputs": []
    }
  ]
}