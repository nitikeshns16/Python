{
  "cells": [
    {
      "cell_type": "markdown",
      "metadata": {
        "id": "-2AldgC_aNhA"
      },
      "source": [
        "# Python FAQs"
      ]
    },
    {
      "cell_type": "code",
      "execution_count": 3,
      "metadata": {
        "colab": {
          "base_uri": "https://localhost:8080/"
        },
        "id": "szGFoAUBaJL1",
        "outputId": "b43d0478-a01d-4960-eacc-4fdd3f73e426"
      },
      "outputs": [
        {
          "name": "stdout",
          "output_type": "stream",
          "text": [
            "5 6\n",
            "6 5\n"
          ]
        }
      ],
      "source": [
        "# Swap two numbers\n",
        "\n",
        "x = 5\n",
        "y = 6\n",
        "print(x,y)\n",
        "\n",
        "x = x+y\n",
        "y = x-y\n",
        "x = x-y\n",
        "print(x,y)"
      ]
    },
    {
      "cell_type": "code",
      "execution_count": 10,
      "metadata": {
        "colab": {
          "base_uri": "https://localhost:8080/"
        },
        "id": "dac9iWRdbAvm",
        "outputId": "d876e8d5-fac9-49c0-f34b-6f7ad0d254f0"
      },
      "outputs": [
        {
          "name": "stdout",
          "output_type": "stream",
          "text": [
            "4321\n",
            "1234\n",
            "4321\n"
          ]
        }
      ],
      "source": [
        "# Reverse number\n",
        "#1.\n",
        "numb = 1234\n",
        "print(str(numb)[::-1])\n",
        "\n",
        "#2.\n",
        "x=int(input(\"enter the four digit number \"))\n",
        "a=x%10  \n",
        "num_1=x//10 \n",
        "b=num_1%10   \n",
        "num_2=num_1//10  \n",
        "c=num_2%10 \n",
        "d = num_2//10\n",
        "#formula for reverse\n",
        "rev=a*1000+b*100+c*10+d\n",
        "print(x)\n",
        "print(rev)\n"
      ]
    },
    {
      "cell_type": "code",
      "execution_count": 1,
      "metadata": {
        "id": "cPlR1Z6obmb2"
      },
      "outputs": [
        {
          "name": "stdout",
          "output_type": "stream",
          "text": [
            "the number is not armstrong number\n"
          ]
        }
      ],
      "source": [
        "# Armstrong number\n",
        "n=int(input(\"Enter three digit number: \")) \n",
        "a=n%10  #3\n",
        "num=n//10  #12\n",
        "b=num%10  #2\n",
        "c=num//10  #1\n",
        "if (a**3 + b**3 + c**3)==n:\n",
        "    print(\"the number is armstrong number\") \n",
        "else:\n",
        "    print(\"the number is not armstrong number\")"
      ]
    },
    {
      "cell_type": "code",
      "execution_count": 1,
      "metadata": {},
      "outputs": [
        {
          "name": "stdout",
          "output_type": "stream",
          "text": [
            "Pallindrome\n"
          ]
        }
      ],
      "source": [
        "# Pallindrom\n",
        "str_ = input('Enter a string')\n",
        "if str_ == str_[::-1]:\n",
        "    print('Pallindrome')\n",
        "else:\n",
        "    print('Not Pallindrome')"
      ]
    },
    {
      "cell_type": "code",
      "execution_count": 2,
      "metadata": {},
      "outputs": [
        {
          "name": "stdout",
          "output_type": "stream",
          "text": [
            "['A', 'B', 'C', 'D', 'E', 'F', 'G', 'H']\n"
          ]
        }
      ],
      "source": [
        "#Remove duplicates\n",
        "names=['A','B','C','A','D','E','F','G','H','E','D']\n",
        "un = list()\n",
        "\n",
        "for i in names:\n",
        "  if i not in un:\n",
        "    un.append(i)\n",
        "print(un)"
      ]
    },
    {
      "cell_type": "code",
      "execution_count": null,
      "metadata": {},
      "outputs": [],
      "source": [
        "#Change order of words in string\n",
        "str1=\"Python is very easy language\"\n",
        "L=str1.split()[::-1]\n",
        "reverse=\" \".join(L)\n",
        "print(reverse)"
      ]
    },
    {
      "cell_type": "code",
      "execution_count": null,
      "metadata": {},
      "outputs": [],
      "source": [
        "#Reverse string with internal content\n",
        "str1=\"Python is very easy language\"\n",
        "L=str1.split()\n",
        "reverse=[]\n",
        "for word in L:\n",
        "  reverse.append(word[::-1])\n",
        "reverse=\" \".join(reverse)\n",
        "print(reverse)\n"
      ]
    }
  ],
  "metadata": {
    "colab": {
      "provenance": []
    },
    "kernelspec": {
      "display_name": "Python 3",
      "name": "python3"
    },
    "language_info": {
      "codemirror_mode": {
        "name": "ipython",
        "version": 3
      },
      "file_extension": ".py",
      "mimetype": "text/x-python",
      "name": "python",
      "nbconvert_exporter": "python",
      "pygments_lexer": "ipython3",
      "version": "3.11.5"
    }
  },
  "nbformat": 4,
  "nbformat_minor": 0
}
